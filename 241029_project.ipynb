{
 "cells": [
  {
   "cell_type": "code",
   "execution_count": 224,
   "id": "e9710835-71d0-491e-8ac0-946a770e78f4",
   "metadata": {},
   "outputs": [
    {
     "name": "stdin",
     "output_type": "stream",
     "text": [
      "문자열을 입력해라: Test\n"
     ]
    },
    {
     "name": "stdout",
     "output_type": "stream",
     "text": [
      "TEST,TEST,TEST,TEST\n"
     ]
    }
   ],
   "source": [
    "# 1번 문제\n",
    "\n",
    "word = input(\"문자열을 입력해라:\").upper()\n",
    "cloop = len(word)\n",
    "he = 0\n",
    "while he <cloop:\n",
    "    he+=1\n",
    "    if he != cloop:\n",
    "        print(word, end=',')\n",
    "    else:\n",
    "        print(word)\n",
    "    "
   ]
  },
  {
   "cell_type": "code",
   "execution_count": 226,
   "id": "2df70fe5-d14f-4676-8f58-5d74ac46ffd4",
   "metadata": {},
   "outputs": [
    {
     "name": "stdin",
     "output_type": "stream",
     "text": [
      "정수 입력 하쇼 4\n"
     ]
    },
    {
     "name": "stdout",
     "output_type": "stream",
     "text": [
      "1 1\n",
      "2 8\n",
      "3 27\n",
      "4 64\n"
     ]
    }
   ],
   "source": [
    "# 2번 문제\n",
    "num = int(input(\"정수 입력 하쇼\"))\n",
    "for i in range(1, num+1):\n",
    "    print(f\"{i} {i**3}\")"
   ]
  },
  {
   "cell_type": "code",
   "execution_count": 227,
   "id": "f7260442-4246-4c41-863a-ec1c5bca37ae",
   "metadata": {},
   "outputs": [
    {
     "name": "stdin",
     "output_type": "stream",
     "text": [
      "아무거나 써봐 11월 6일\n",
      " 강남\n",
      " 저녁 가능합니까?\n",
      " \n"
     ]
    },
    {
     "name": "stdout",
     "output_type": "stream",
     "text": [
      "11월 6일강남저녁 가능합니까?\n"
     ]
    }
   ],
   "source": [
    "#3 번문제\n",
    "word = input(\"아무거나 써봐\")\n",
    "addword = \"\"\n",
    "while word!=\"\":\n",
    "    addword += word\n",
    "    word = input()\n",
    "    \n",
    "print(addword)\n"
   ]
  },
  {
   "cell_type": "code",
   "execution_count": 228,
   "id": "4712e1c9-bc4b-40dd-9012-da5ab201019a",
   "metadata": {},
   "outputs": [
    {
     "name": "stdin",
     "output_type": "stream",
     "text": [
      "허용 습도: 30 60\n"
     ]
    },
    {
     "name": "stdout",
     "output_type": "stream",
     "text": [
      "30\n"
     ]
    },
    {
     "name": "stdin",
     "output_type": "stream",
     "text": [
      "현재 습도 확인 : 30\n"
     ]
    },
    {
     "name": "stdout",
     "output_type": "stream",
     "text": [
      "Humidity OK\n"
     ]
    },
    {
     "name": "stdin",
     "output_type": "stream",
     "text": [
      "현재 습도 확인 : 40\n"
     ]
    },
    {
     "name": "stdout",
     "output_type": "stream",
     "text": [
      "Humidity OK\n"
     ]
    },
    {
     "name": "stdin",
     "output_type": "stream",
     "text": [
      "현재 습도 확인 : -999\n"
     ]
    },
    {
     "name": "stdout",
     "output_type": "stream",
     "text": [
      "끝!\n"
     ]
    }
   ],
   "source": [
    "#4번 문제\n",
    "limit_humi = input(\"허용 습도:\").split(\" \")\n",
    "print(limit_humi[0])\n",
    "\n",
    "while True:\n",
    "    now = input(\"현재 습도 확인 :\")\n",
    "    # -999 나오면 끝!\n",
    "    if now == \"-999\":\n",
    "        print(\"끝!\")\n",
    "        break;\n",
    "    # 습도 OK\n",
    "    elif now <= limit_humi[1] and limit_humi[0] <= now:\n",
    "        print(\"Humidity OK\")\n",
    "    # 습도 터짐\n",
    "    else:\n",
    "        print(\"Warning!\")\n",
    "        break;"
   ]
  },
  {
   "cell_type": "code",
   "execution_count": 229,
   "id": "4676fe41-d9ea-4728-a023-d0960ec5c83f",
   "metadata": {},
   "outputs": [
    {
     "name": "stdout",
     "output_type": "stream",
     "text": [
      "12\n"
     ]
    }
   ],
   "source": [
    "# 5번 문제\n",
    "\n",
    "def repeat_n_times(x,n):\n",
    "    result = \"\"\n",
    "    if type(x) == \"str\" :\n",
    "        for i in range(n):\n",
    "            result+=x\n",
    "    else:\n",
    "        return x*n\n",
    "    return result\n",
    "\n",
    "if  __name__ == \"__main__\":\n",
    "    print(repeat_n_times(3,4))"
   ]
  },
  {
   "cell_type": "code",
   "execution_count": 231,
   "id": "2f1e1ff7-f897-45dd-ae72-93b2bdac65ac",
   "metadata": {},
   "outputs": [
    {
     "name": "stdin",
     "output_type": "stream",
     "text": [
      "현재 속력 몇?: 50\n"
     ]
    },
    {
     "name": "stdout",
     "output_type": "stream",
     "text": [
      "정상 속도 입니다. 안전운행하세요\n"
     ]
    }
   ],
   "source": [
    "# 9번 문제\n",
    "speed_now = input(\"현재 속력 몇?:\")\n",
    "over_speed = 50\n",
    "\n",
    "if int(speed_now) > over_speed:\n",
    "    print(\"과 속입니다.\")\n",
    "else:\n",
    "    print(\"정상 속도 입니다. 안전운행하세요\")\n",
    "\n"
   ]
  },
  {
   "cell_type": "code",
   "execution_count": 232,
   "id": "27e0533e-7680-4dc6-8bd1-2099285c6094",
   "metadata": {},
   "outputs": [
    {
     "name": "stdin",
     "output_type": "stream",
     "text": [
      "상수값 입력 1\n"
     ]
    },
    {
     "name": "stdout",
     "output_type": "stream",
     "text": [
      "걸어가슈\n",
      "수고하셨습니다.\n"
     ]
    }
   ],
   "source": [
    "# 10번 문제 Distance\n",
    "Distance = int(input(\"상수값 입력\"))\n",
    "if Distance < 3 :\n",
    "    print(\"걸어가슈\")\n",
    "elif Distance <10 :\n",
    "    print(\"버스타슈\")\n",
    "else :\n",
    "    print(\"택시타슈\")\n",
    "\n",
    "print(\"수고하셨습니다.\")"
   ]
  },
  {
   "cell_type": "code",
   "execution_count": 233,
   "id": "334c953a-5ea5-45b5-a373-fca168db0c35",
   "metadata": {},
   "outputs": [
    {
     "data": {
      "text/plain": [
       "[['삼성전자', '삼성생명'], ['LG전자'], ['SKT'], ['셀트리온']]"
      ]
     },
     "execution_count": 233,
     "metadata": {},
     "output_type": "execute_result"
    }
   ],
   "source": [
    "# 11번 문제\n",
    "company = [['삼성전자','삼성생명','삼성화재'], ['LG전자', 'LG화학'],['SKT', 'SK바이오사이언스'],['셀트리온']]\n",
    "company[3].append('종근당')\n",
    "\n",
    "for i in range(len(company)):\n",
    "    company[i].pop()\n",
    "\n",
    "company"
   ]
  },
  {
   "cell_type": "code",
   "execution_count": 234,
   "id": "3db6c8fa-a98d-49fc-9923-d3953e524a2a",
   "metadata": {},
   "outputs": [
    {
     "name": "stdout",
     "output_type": "stream",
     "text": [
      "[1, 3, 4, 5, 7, 8, 10, 11, 20, 22, 23, 25, 27, 29, 30, 35, 36, 38, 41, 45, 46, 48, 49, 50, 51, 53, 54, 55, 56, 58, 61, 62, 64, 65, 69, 70, 72, 76, 78, 80, 81, 84, 85, 86, 90, 91, 93, 97, 98, 100]\n"
     ]
    }
   ],
   "source": [
    "# 13번 정렬\n",
    "import random\n",
    "\n",
    "numlist = range(1, 101)\n",
    "s= random.sample(numlist,50)\n",
    "print(sorted(s))"
   ]
  },
  {
   "cell_type": "code",
   "execution_count": 236,
   "id": "c086012b-820b-47db-b41c-694a97d786e4",
   "metadata": {},
   "outputs": [
    {
     "name": "stdout",
     "output_type": "stream",
     "text": [
      "babo\n",
      "아 아 난 머리통\n",
      "\n",
      "abracadabra\n",
      "20204.11.06. 19:00 GangNam \n",
      "뭐먹지\n",
      "na\n",
      "\n"
     ]
    }
   ],
   "source": [
    "# 14번 문제\n",
    "import glob\n",
    "\n",
    "def python_def(*args, **kwargs):\n",
    "    all_files = glob.glob(\"./241028/glob/*\")\n",
    "\n",
    "    # kwargs에서 가져오는 값 헤더 추가, args도 헤더 추가\n",
    "    with open('output_file.txt', 'a') as target:\n",
    "        target.write(kwargs.get('na'))\n",
    "        target.write('\\n')\n",
    "        target.write(*args)\n",
    "        target.write('\\n')\n",
    "\n",
    "    # 파일 값 읽어와서 파일에 추가하기\n",
    "    for i in all_files:\n",
    "        with open(i, \"r\") as f:\n",
    "            content = f.readlines()\n",
    "            with open('output_file.txt', 'a') as target:\n",
    "                target.write('\\n')\n",
    "                target.writelines(content)\n",
    "\n",
    "    # kwargs 에서 babo 값 끝에다가 추가하기.\n",
    "    with open('output_file.txt', 'a') as target:\n",
    "        target.write(kwargs.get('babo'))\n",
    "        target.write('\\n')\n",
    "\n",
    "    # 결과물 출력하기\n",
    "    with open('output_file.txt', 'r') as f:\n",
    "        print(f.read())\n",
    "python_def(\"아 아 난 머리통\", na = \"babo\" , babo = \"na\")"
   ]
  },
  {
   "cell_type": "code",
   "execution_count": null,
   "id": "5be447f2-42f1-4832-bf55-1ccf89a303f2",
   "metadata": {},
   "outputs": [],
   "source": []
  }
 ],
 "metadata": {
  "kernelspec": {
   "display_name": "Python 3 (ipykernel)",
   "language": "python",
   "name": "python3"
  },
  "language_info": {
   "codemirror_mode": {
    "name": "ipython",
    "version": 3
   },
   "file_extension": ".py",
   "mimetype": "text/x-python",
   "name": "python",
   "nbconvert_exporter": "python",
   "pygments_lexer": "ipython3",
   "version": "3.12.5"
  }
 },
 "nbformat": 4,
 "nbformat_minor": 5
}
